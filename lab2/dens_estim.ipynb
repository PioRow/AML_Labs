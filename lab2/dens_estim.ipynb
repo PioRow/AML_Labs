{
 "cells": [
  {
   "cell_type": "code",
   "id": "initial_id",
   "metadata": {
    "collapsed": true,
    "ExecuteTime": {
     "end_time": "2025-03-08T22:50:04.670897Z",
     "start_time": "2025-03-08T22:50:03.743245Z"
    }
   },
   "source": [
    "import pandas as pd\n",
    "import numpy as np\n",
    "import abc\n",
    "import matplotlib.pyplot as plt\n",
    "import seaborn as sns\n",
    "import sklearn"
   ],
   "outputs": [],
   "execution_count": 1
  },
  {
   "metadata": {
    "ExecuteTime": {
     "end_time": "2025-03-08T22:50:24.336871Z",
     "start_time": "2025-03-08T22:50:24.332965Z"
    }
   },
   "cell_type": "code",
   "source": [
    "def gen_data(n=200):\n",
    "    return 0.1*np.random.normal(5,1,n)+ 0.9*np.random.normal(10,1,n)"
   ],
   "id": "c346316517aa85b",
   "outputs": [],
   "execution_count": 2
  },
  {
   "metadata": {
    "ExecuteTime": {
     "end_time": "2025-03-08T22:50:43.506147Z",
     "start_time": "2025-03-08T22:50:43.502301Z"
    }
   },
   "cell_type": "code",
   "source": [
    "class DensityEstimator(abc.ABC):\n",
    "    @abc.abstractmethod\n",
    "    def fit(self, X):\n",
    "        pass\n",
    "    @abc.abstractmethod\n",
    "    def predict(self, X):\n",
    "        pass"
   ],
   "id": "ed3468f2f375afdd",
   "outputs": [],
   "execution_count": 5
  },
  {
   "metadata": {
    "ExecuteTime": {
     "end_time": "2025-03-08T22:51:35.198371Z",
     "start_time": "2025-03-08T22:51:35.181447Z"
    }
   },
   "cell_type": "code",
   "source": [
    "class NormalKernelDE(DensityEstimator):\n",
    "    def __init__(self, h=1):\n",
    "        self.h = h\n",
    "    def fit(self, X):\n",
    "        self.X = X\n",
    "    def predict(self, X):\n",
    "        return np.array([np.sum(np.exp(-0.5*((X-x)/self.h)**2)/(np.sqrt(2*np.pi)*self.h)) for x in self.X])/len(self.X)"
   ],
   "id": "6d9014c91bbb35df",
   "outputs": [
    {
     "ename": "SyntaxError",
     "evalue": "closing parenthesis ']' does not match opening parenthesis '(' (902003859.py, line 7)",
     "output_type": "error",
     "traceback": [
      "  \u001B[36mCell\u001B[39m\u001B[36m \u001B[39m\u001B[32mIn[7]\u001B[39m\u001B[32m, line 7\u001B[39m\n\u001B[31m    \u001B[39m\u001B[31mreturn np.array([np.sum(np.exp(-0.5*((X-x)/self.h)**2)/(np.sqrt(2*np.pi)*self.h) for x in self.X])/len(self.X\u001B[39m\n                                                                                                    ^\n\u001B[31mSyntaxError\u001B[39m\u001B[31m:\u001B[39m closing parenthesis ']' does not match opening parenthesis '('\n"
     ]
    }
   ],
   "execution_count": 7
  },
  {
   "metadata": {},
   "cell_type": "code",
   "outputs": [],
   "execution_count": null,
   "source": [
    "class UniformKernelDE(DensityEstimator):\n",
    "    def __init__(self, h=1):\n",
    "        self.h = h\n",
    "    def fit(self, X):\n",
    "        self.X = X\n",
    "    def predict(self, X):\n",
    "        return np.array([np.sum(np.abs(X-x)<self.h)/(2*self.h) for x in self.X])/len(self.X)"
   ],
   "id": "8fdc7cbf1baa2525"
  }
 ],
 "metadata": {
  "kernelspec": {
   "display_name": "Python 3",
   "language": "python",
   "name": "python3"
  },
  "language_info": {
   "codemirror_mode": {
    "name": "ipython",
    "version": 2
   },
   "file_extension": ".py",
   "mimetype": "text/x-python",
   "name": "python",
   "nbconvert_exporter": "python",
   "pygments_lexer": "ipython2",
   "version": "2.7.6"
  }
 },
 "nbformat": 4,
 "nbformat_minor": 5
}
