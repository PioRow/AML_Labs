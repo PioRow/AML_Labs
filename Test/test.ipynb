{
 "cells": [
  {
   "cell_type": "code",
   "id": "initial_id",
   "metadata": {
    "collapsed": true,
    "ExecuteTime": {
     "end_time": "2025-06-11T11:55:54.974431Z",
     "start_time": "2025-06-11T11:55:54.970985Z"
    }
   },
   "source": [
    "import numpy as np\n",
    "import pandas as pd\n",
    "import matplotlib.pyplot as plt"
   ],
   "outputs": [],
   "execution_count": 1
  },
  {
   "metadata": {},
   "cell_type": "markdown",
   "source": "# TASK 1\n",
   "id": "c33d1f81567c132d"
  },
  {
   "metadata": {
    "ExecuteTime": {
     "end_time": "2025-06-11T12:21:04.249029Z",
     "start_time": "2025-06-11T12:21:04.242857Z"
    }
   },
   "cell_type": "code",
   "source": [
    "def gen_data(n=5000):\n",
    "    X=np.random.uniform(0,np.pi,(n,10))\n",
    "    cond=np.sum(np.sin(X[:,0:5]),axis=1)\n",
    "    y=np.where(cond>=2.5,1,0)\n",
    "    return X,y"
   ],
   "id": "e774c0f0db149564",
   "outputs": [],
   "execution_count": 24
  },
  {
   "metadata": {
    "ExecuteTime": {
     "end_time": "2025-06-11T12:21:08.977857Z",
     "start_time": "2025-06-11T12:21:08.973252Z"
    }
   },
   "cell_type": "code",
   "source": "X,y=gen_data()",
   "id": "e48f478a23cafa9a",
   "outputs": [],
   "execution_count": 31
  },
  {
   "metadata": {
    "ExecuteTime": {
     "end_time": "2025-06-11T12:21:09.164490Z",
     "start_time": "2025-06-11T12:21:09.157811Z"
    }
   },
   "cell_type": "code",
   "source": "np.unique(y,return_counts=True)",
   "id": "37bdcd0ddfdd9ff5",
   "outputs": [
    {
     "data": {
      "text/plain": [
       "(array([0, 1]), array([ 825, 4175]))"
      ]
     },
     "execution_count": 32,
     "metadata": {},
     "output_type": "execute_result"
    }
   ],
   "execution_count": 32
  },
  {
   "metadata": {},
   "cell_type": "code",
   "outputs": [],
   "execution_count": null,
   "source": "",
   "id": "c48805f2a9947e00"
  }
 ],
 "metadata": {
  "kernelspec": {
   "display_name": "Python 3",
   "language": "python",
   "name": "python3"
  },
  "language_info": {
   "codemirror_mode": {
    "name": "ipython",
    "version": 2
   },
   "file_extension": ".py",
   "mimetype": "text/x-python",
   "name": "python",
   "nbconvert_exporter": "python",
   "pygments_lexer": "ipython2",
   "version": "2.7.6"
  }
 },
 "nbformat": 4,
 "nbformat_minor": 5
}
