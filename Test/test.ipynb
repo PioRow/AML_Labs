{
 "cells": [
  {
   "cell_type": "code",
   "id": "initial_id",
   "metadata": {
    "collapsed": true,
    "ExecuteTime": {
     "end_time": "2025-06-11T11:55:54.974431Z",
     "start_time": "2025-06-11T11:55:54.970985Z"
    }
   },
   "source": [
    "import numpy as np\n",
    "import pandas as pd\n",
    "import matplotlib.pyplot as plt"
   ],
   "outputs": [],
   "execution_count": 1
  },
  {
   "metadata": {},
   "cell_type": "markdown",
   "source": "# TASK 1\n",
   "id": "c33d1f81567c132d"
  },
  {
   "metadata": {
    "ExecuteTime": {
     "end_time": "2025-06-11T12:21:04.249029Z",
     "start_time": "2025-06-11T12:21:04.242857Z"
    }
   },
   "cell_type": "code",
   "source": [
    "def gen_data(n=5000):\n",
    "    X=np.random.uniform(0,np.pi,(n,10))\n",
    "    cond=np.sum(np.sin(X[:,0:5]),axis=1)\n",
    "    y=np.where(cond>=2.5,1,0)\n",
    "    return X,y"
   ],
   "id": "e774c0f0db149564",
   "outputs": [],
   "execution_count": 24
  },
  {
   "metadata": {
    "ExecuteTime": {
     "end_time": "2025-06-11T12:21:08.977857Z",
     "start_time": "2025-06-11T12:21:08.973252Z"
    }
   },
   "cell_type": "code",
   "source": "X,y=gen_data()",
   "id": "e48f478a23cafa9a",
   "outputs": [],
   "execution_count": 31
  },
  {
   "metadata": {
    "ExecuteTime": {
     "end_time": "2025-06-11T12:21:09.164490Z",
     "start_time": "2025-06-11T12:21:09.157811Z"
    }
   },
   "cell_type": "code",
   "source": "np.unique(y,return_counts=True)",
   "id": "37bdcd0ddfdd9ff5",
   "outputs": [
    {
     "data": {
      "text/plain": [
       "(array([0, 1]), array([ 825, 4175]))"
      ]
     },
     "execution_count": 32,
     "metadata": {},
     "output_type": "execute_result"
    }
   ],
   "execution_count": 32
  },
  {
   "metadata": {},
   "cell_type": "markdown",
   "source": "# Task 2",
   "id": "ee313f13b7f0467d"
  },
  {
   "metadata": {
    "ExecuteTime": {
     "end_time": "2025-06-11T12:26:01.861891Z",
     "start_time": "2025-06-11T12:26:01.190259Z"
    }
   },
   "cell_type": "code",
   "source": "from sklearn.tree import DecisionTreeClassifier",
   "id": "1a6f4df91c7a89b7",
   "outputs": [],
   "execution_count": 46
  },
  {
   "metadata": {
    "ExecuteTime": {
     "end_time": "2025-06-11T12:25:01.145187Z",
     "start_time": "2025-06-11T12:25:01.139722Z"
    }
   },
   "cell_type": "code",
   "source": "X[:,i]",
   "id": "ca20f1328a0746d4",
   "outputs": [
    {
     "data": {
      "text/plain": [
       "array([[2.45210588, 1.4642253 , 2.45210588, 1.30262595, 1.4642253 ],\n",
       "       [2.25370325, 1.88030288, 2.25370325, 0.44430101, 1.88030288],\n",
       "       [1.83897134, 0.71677342, 1.83897134, 1.74015654, 0.71677342],\n",
       "       ...,\n",
       "       [2.57692362, 1.32891513, 2.57692362, 1.4259706 , 1.32891513],\n",
       "       [0.33231542, 2.85777269, 0.33231542, 1.20303375, 2.85777269],\n",
       "       [0.67624698, 0.44579645, 0.67624698, 2.87321699, 0.44579645]],\n",
       "      shape=(5000, 5))"
      ]
     },
     "execution_count": 45,
     "metadata": {},
     "output_type": "execute_result"
    }
   ],
   "execution_count": 45
  },
  {
   "metadata": {
    "ExecuteTime": {
     "end_time": "2025-06-11T12:31:34.510286Z",
     "start_time": "2025-06-11T12:31:34.502421Z"
    }
   },
   "cell_type": "code",
   "source": [
    "class RandomSubspaceClassifier:\n",
    "    def __init__(self,B=100,m=5):\n",
    "        self.B=B\n",
    "        self.m=m\n",
    "        self.classifiers=[]\n",
    "        self.subspaces=[]\n",
    "    def fit(self,X,y):\n",
    "        n_features=X.shape[1]\n",
    "        for b in range(self.B):\n",
    "            feats=np.random.choice(n_features,self.m)\n",
    "            X_new=X[:,feats]\n",
    "            model=DecisionTreeClassifier(max_depth=3)\n",
    "            model.fit(X_new,y)\n",
    "            self.classifiers.append(model)\n",
    "            self.subspaces.append(feats)\n",
    "        return self\n",
    "    \n",
    "    def predict(self,X):\n",
    "        n_samples=X.shape[0]\n",
    "        y_pred=np.zeros(n_samples)\n",
    "        for (cls,sub) in zip(self.classifiers,self.subspaces):\n",
    "            y_pred+=cls.predict(X[:,sub])\n",
    "        y=np.where(y_pred>=self.B/2,1,0)\n",
    "        return y"
   ],
   "id": "c48805f2a9947e00",
   "outputs": [],
   "execution_count": 56
  },
  {
   "metadata": {
    "ExecuteTime": {
     "end_time": "2025-06-11T12:31:36.561531Z",
     "start_time": "2025-06-11T12:31:36.555964Z"
    }
   },
   "cell_type": "code",
   "source": [
    "from sklearn.model_selection import train_test_split\n",
    "X_train,X_test,y_train,y_test=train_test_split(X,y,test_size=0.2)"
   ],
   "id": "579f6382d84b5595",
   "outputs": [],
   "execution_count": 57
  },
  {
   "metadata": {
    "ExecuteTime": {
     "end_time": "2025-06-11T12:31:38.052299Z",
     "start_time": "2025-06-11T12:31:37.011132Z"
    }
   },
   "cell_type": "code",
   "source": "model=RandomSubspaceClassifier().fit(X_train,y_train)",
   "id": "7d581a2340952ae2",
   "outputs": [],
   "execution_count": 58
  },
  {
   "metadata": {
    "ExecuteTime": {
     "end_time": "2025-06-11T12:31:38.561259Z",
     "start_time": "2025-06-11T12:31:38.514176Z"
    }
   },
   "cell_type": "code",
   "source": "model.predict(X_test)",
   "id": "bfbd66600aa4383f",
   "outputs": [
    {
     "data": {
      "text/plain": [
       "array([1, 1, 1, 1, 1, 1, 1, 1, 1, 1, 1, 1, 1, 1, 1, 1, 1, 1, 1, 1, 1, 1,\n",
       "       1, 1, 1, 1, 1, 1, 1, 1, 1, 1, 1, 1, 1, 1, 1, 1, 1, 1, 1, 1, 1, 1,\n",
       "       1, 1, 1, 1, 1, 1, 1, 1, 1, 1, 1, 1, 1, 1, 1, 1, 1, 1, 1, 1, 1, 1,\n",
       "       1, 1, 1, 1, 1, 1, 1, 1, 1, 1, 1, 1, 1, 1, 1, 1, 1, 1, 1, 1, 1, 1,\n",
       "       1, 1, 1, 1, 1, 1, 1, 1, 1, 1, 1, 1, 1, 1, 1, 1, 1, 1, 1, 1, 1, 1,\n",
       "       1, 1, 1, 1, 1, 1, 1, 1, 1, 1, 1, 1, 1, 1, 1, 1, 1, 1, 1, 1, 1, 1,\n",
       "       1, 1, 1, 1, 1, 1, 1, 1, 1, 1, 1, 1, 1, 1, 1, 1, 1, 1, 1, 1, 1, 1,\n",
       "       1, 1, 1, 1, 1, 1, 1, 1, 1, 1, 1, 1, 1, 1, 1, 1, 1, 1, 1, 1, 1, 1,\n",
       "       1, 1, 1, 1, 1, 1, 1, 1, 1, 1, 1, 1, 1, 1, 1, 1, 1, 1, 1, 1, 1, 1,\n",
       "       1, 1, 1, 1, 1, 1, 1, 1, 1, 1, 1, 1, 1, 1, 1, 1, 1, 1, 1, 1, 1, 1,\n",
       "       1, 1, 1, 1, 1, 1, 1, 1, 1, 1, 1, 1, 1, 1, 1, 1, 1, 1, 1, 1, 1, 1,\n",
       "       1, 1, 1, 1, 1, 1, 1, 1, 1, 1, 1, 1, 1, 1, 1, 1, 1, 1, 1, 1, 1, 1,\n",
       "       1, 1, 1, 1, 1, 1, 1, 1, 1, 1, 1, 1, 1, 1, 1, 1, 1, 1, 1, 1, 1, 1,\n",
       "       1, 1, 1, 1, 1, 1, 1, 1, 1, 1, 1, 1, 1, 1, 1, 1, 1, 1, 1, 1, 1, 1,\n",
       "       1, 1, 1, 1, 1, 1, 1, 1, 1, 1, 1, 1, 1, 1, 1, 1, 1, 1, 1, 1, 1, 1,\n",
       "       1, 1, 1, 1, 1, 1, 1, 1, 1, 1, 1, 1, 1, 1, 1, 1, 1, 1, 1, 1, 1, 1,\n",
       "       1, 1, 1, 1, 1, 1, 1, 1, 1, 1, 1, 1, 1, 1, 1, 1, 1, 1, 1, 1, 1, 1,\n",
       "       1, 1, 1, 1, 1, 1, 1, 1, 1, 1, 1, 1, 1, 1, 1, 1, 1, 1, 1, 1, 1, 1,\n",
       "       1, 1, 1, 1, 1, 1, 1, 1, 1, 1, 1, 1, 1, 1, 1, 1, 1, 1, 1, 1, 1, 1,\n",
       "       1, 1, 1, 1, 1, 1, 1, 1, 1, 1, 1, 1, 1, 1, 1, 1, 1, 1, 1, 1, 1, 1,\n",
       "       1, 1, 1, 1, 1, 1, 1, 1, 1, 1, 1, 1, 1, 1, 1, 1, 1, 1, 1, 1, 1, 1,\n",
       "       1, 1, 1, 1, 1, 1, 1, 1, 1, 1, 1, 1, 1, 1, 1, 1, 1, 1, 1, 1, 1, 1,\n",
       "       1, 1, 1, 1, 1, 1, 1, 1, 1, 1, 1, 1, 1, 1, 1, 1, 1, 1, 1, 1, 1, 1,\n",
       "       1, 1, 1, 1, 1, 1, 1, 1, 1, 1, 1, 1, 1, 1, 1, 1, 1, 1, 1, 1, 1, 1,\n",
       "       1, 1, 1, 1, 1, 1, 1, 1, 0, 1, 1, 1, 1, 1, 1, 1, 1, 1, 1, 1, 1, 1,\n",
       "       1, 1, 1, 1, 1, 1, 1, 1, 1, 1, 1, 1, 1, 1, 1, 1, 1, 1, 1, 1, 1, 1,\n",
       "       1, 1, 1, 1, 1, 1, 1, 1, 1, 1, 1, 1, 1, 1, 1, 1, 1, 1, 1, 1, 1, 1,\n",
       "       1, 1, 1, 1, 1, 1, 1, 1, 1, 1, 1, 1, 1, 1, 1, 1, 1, 1, 1, 1, 1, 1,\n",
       "       1, 1, 1, 1, 1, 1, 1, 1, 1, 1, 1, 1, 1, 1, 1, 1, 1, 1, 1, 1, 1, 1,\n",
       "       1, 1, 1, 1, 1, 1, 1, 1, 1, 1, 1, 1, 1, 1, 1, 1, 1, 1, 1, 1, 1, 1,\n",
       "       1, 1, 1, 1, 1, 1, 1, 1, 1, 1, 1, 1, 1, 1, 1, 1, 1, 1, 1, 1, 1, 1,\n",
       "       1, 1, 1, 1, 1, 1, 1, 1, 1, 1, 1, 1, 1, 1, 1, 1, 1, 1, 1, 1, 1, 1,\n",
       "       1, 1, 1, 1, 1, 1, 1, 1, 1, 1, 1, 1, 1, 1, 1, 1, 1, 1, 1, 1, 1, 1,\n",
       "       1, 1, 1, 1, 1, 1, 1, 1, 1, 1, 1, 1, 1, 1, 1, 1, 1, 1, 1, 1, 1, 1,\n",
       "       1, 1, 1, 1, 1, 1, 1, 1, 1, 1, 1, 1, 1, 1, 1, 1, 1, 1, 1, 1, 1, 1,\n",
       "       1, 1, 1, 1, 1, 1, 1, 1, 1, 1, 1, 1, 1, 1, 1, 1, 1, 1, 1, 1, 1, 1,\n",
       "       1, 1, 1, 1, 1, 1, 1, 1, 1, 1, 1, 1, 1, 1, 1, 1, 1, 1, 1, 1, 1, 1,\n",
       "       1, 1, 1, 1, 1, 1, 1, 1, 1, 1, 1, 1, 1, 1, 1, 1, 1, 1, 1, 1, 1, 1,\n",
       "       1, 1, 1, 1, 1, 1, 1, 1, 1, 1, 1, 1, 1, 1, 1, 1, 1, 1, 1, 1, 1, 1,\n",
       "       1, 1, 1, 1, 1, 1, 1, 1, 1, 1, 1, 1, 1, 1, 1, 1, 1, 1, 1, 1, 1, 1,\n",
       "       1, 1, 1, 1, 1, 1, 1, 1, 1, 1, 1, 1, 1, 1, 1, 1, 1, 1, 1, 1, 1, 1,\n",
       "       1, 1, 1, 1, 1, 1, 1, 1, 1, 1, 1, 1, 1, 1, 1, 1, 1, 1, 1, 1, 1, 1,\n",
       "       1, 1, 1, 1, 1, 1, 1, 1, 1, 1, 1, 1, 1, 1, 1, 1, 1, 1, 1, 1, 1, 1,\n",
       "       1, 1, 1, 1, 1, 1, 1, 1, 1, 1, 1, 1, 1, 1, 1, 1, 1, 1, 1, 1, 1, 1,\n",
       "       1, 1, 1, 1, 1, 1, 1, 1, 1, 1, 1, 1, 1, 1, 1, 1, 1, 1, 1, 1, 1, 1,\n",
       "       1, 1, 1, 1, 1, 1, 1, 1, 1, 1])"
      ]
     },
     "execution_count": 59,
     "metadata": {},
     "output_type": "execute_result"
    }
   ],
   "execution_count": 59
  },
  {
   "metadata": {
    "ExecuteTime": {
     "end_time": "2025-06-11T12:33:59.347928Z",
     "start_time": "2025-06-11T12:33:59.343225Z"
    }
   },
   "cell_type": "code",
   "source": "from sklearn.metrics import accuracy_score",
   "id": "dfd05c09101532d",
   "outputs": [],
   "execution_count": 62
  },
  {
   "metadata": {
    "ExecuteTime": {
     "end_time": "2025-06-11T12:35:53.956614Z",
     "start_time": "2025-06-11T12:35:53.952304Z"
    }
   },
   "cell_type": "code",
   "source": [
    "def plot(X_train,X_test,y_train,y_test):\n",
    "    accs=[]\n",
    "    n=X_train.shape[1]\n",
    "    ms=[]\n",
    "    for m in range(1,n+1):\n",
    "        model=RandomSubspaceClassifier(m=m)\n",
    "        model.fit(X_train,y_train)\n",
    "        y_pred=model.predict(X_test)\n",
    "        accs.append(accuracy_score(y_test,y_pred))\n",
    "        ms.append(m)\n",
    "        \n",
    "    plt.figure(figsize=(10,8))\n",
    "    plt.title(\"accuracy of RSM vs subspace size\")\n",
    "    plt.xlabel(\"subspace size\")\n",
    "    plt.ylabel(\"accuracy\")\n",
    "    plt.plot(ms,accs)\n",
    "    plt.grid(True)\n",
    "    plt.show()\n",
    "        "
   ],
   "id": "30c7db67b726b8cf",
   "outputs": [],
   "execution_count": 63
  },
  {
   "metadata": {
    "ExecuteTime": {
     "end_time": "2025-06-11T12:36:08.239431Z",
     "start_time": "2025-06-11T12:35:58.748869Z"
    }
   },
   "cell_type": "code",
   "source": "plot(X_train,X_test,y_train,y_test)",
   "id": "b310ae8733069e22",
   "outputs": [
    {
     "data": {
      "text/plain": [
       "<Figure size 1000x800 with 1 Axes>"
      ],
      "image/png": "[encoded data removed]"
     },
     "metadata": {},
     "output_type": "display_data"
    }
   ],
   "execution_count": 64
  },
  {
   "metadata": {},
   "cell_type": "code",
   "outputs": [],
   "execution_count": null,
   "source": "",
   "id": "9d202680043cc4b7"
  }
 ],
 "metadata": {
  "kernelspec": {
   "display_name": "Python 3",
   "language": "python",
   "name": "python3"
  },
  "language_info": {
   "codemirror_mode": {
    "name": "ipython",
    "version": 2
   },
   "file_extension": ".py",
   "mimetype": "text/x-python",
   "name": "python",
   "nbconvert_exporter": "python",
   "pygments_lexer": "ipython2",
   "version": "2.7.6"
  }
 },
 "nbformat": 4,
 "nbformat_minor": 5
}
