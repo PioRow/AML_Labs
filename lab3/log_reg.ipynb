{
 "cells": [
  {
   "cell_type": "code",
   "id": "initial_id",
   "metadata": {
    "collapsed": true,
    "ExecuteTime": {
     "end_time": "2025-03-17T21:24:42.169582Z",
     "start_time": "2025-03-17T21:24:42.166070Z"
    }
   },
   "source": [
    "import pandas as pd\n",
    "import numpy as np\n",
    "import abc\n",
    "import matplotlib.pyplot as plt\n",
    "import seaborn as sns\n",
    "import sklearn\n",
    "from pandas.plotting import plot_params"
   ],
   "outputs": [],
   "execution_count": 2
  },
  {
   "metadata": {},
   "cell_type": "markdown",
   "source": "## Task 1",
   "id": "5835addf08c694a7"
  },
  {
   "metadata": {
    "ExecuteTime": {
     "end_time": "2025-03-19T13:12:06.906405Z",
     "start_time": "2025-03-19T13:12:06.893096Z"
    }
   },
   "cell_type": "code",
   "source": "df=pd.read_csv(\"earthquake.txt\",sep=\" \")",
   "id": "95dedd7605816de9",
   "outputs": [],
   "execution_count": 274
  },
  {
   "metadata": {
    "ExecuteTime": {
     "end_time": "2025-03-19T13:12:07.616526Z",
     "start_time": "2025-03-19T13:12:07.612485Z"
    }
   },
   "cell_type": "code",
   "source": "X,Y=df.iloc[:,1:df.shape[1]].to_numpy(),df.iloc[:,0].apply(lambda x: 1 if x==\"equake\" else 0).to_numpy()",
   "id": "70de42293125171d",
   "outputs": [],
   "execution_count": 275
  },
  {
   "metadata": {
    "ExecuteTime": {
     "end_time": "2025-03-19T13:49:26.499956Z",
     "start_time": "2025-03-19T13:49:26.496164Z"
    }
   },
   "cell_type": "code",
   "source": [
    "def task_one_plot(X,Y):\n",
    "    for x,y in zip(X,Y):\n",
    "       plt.scatter(x[0],x[1],c=\"red\" if y==1 else \"blue\",marker=\"$Q$\" if y==1 else \"$X$\")\n",
    "    plt.ylabel(\"Surface\")\n",
    "    plt.xlabel(\"Body\")\n",
    "    plt.show()"
   ],
   "id": "71c79297a7a35c76",
   "outputs": [],
   "execution_count": 297
  },
  {
   "metadata": {
    "ExecuteTime": {
     "end_time": "2025-03-19T13:49:28.479059Z",
     "start_time": "2025-03-19T13:49:27.662675Z"
    }
   },
   "cell_type": "code",
   "source": "task_one_plot(X,Y)",
   "id": "e2fe1611f7f8f808",
   "outputs": [
    {
     "data": {
      "text/plain": [
       "<Figure size 640x480 with 1 Axes>"
      ],
      "image/png": "[encoded data removed]"
     },
     "metadata": {},
     "output_type": "display_data"
    }
   ],
   "execution_count": 298
  },
  {
   "metadata": {
    "ExecuteTime": {
     "end_time": "2025-03-19T14:01:49.450291Z",
     "start_time": "2025-03-19T14:01:49.446123Z"
    }
   },
   "cell_type": "code",
   "source": [
    "no_reg_model=sklearn.linear_model.LogisticRegression(penalty=None)\n",
    "reg_model=sklearn.linear_model.LogisticRegression(penalty=\"l2\")"
   ],
   "id": "9830b6bb801e0469",
   "outputs": [],
   "execution_count": 324
  },
  {
   "metadata": {
    "ExecuteTime": {
     "end_time": "2025-03-19T14:01:51.196642Z",
     "start_time": "2025-03-19T14:01:51.166186Z"
    }
   },
   "cell_type": "code",
   "source": [
    "reg_model=reg_model.fit(X,Y)\n",
    "no_reg_model=no_reg_model.fit(X,Y)"
   ],
   "id": "9d17a8b7db4140b",
   "outputs": [],
   "execution_count": 325
  },
  {
   "metadata": {
    "ExecuteTime": {
     "end_time": "2025-03-19T14:01:52.418834Z",
     "start_time": "2025-03-19T14:01:52.415869Z"
    }
   },
   "cell_type": "code",
   "source": [
    "no_reg_coef=no_reg_model.coef_\n",
    "reg_coef=reg_model.coef_\n",
    "no_reg_B0=no_reg_model.intercept_[0]\n",
    "reg_B0=reg_model.intercept_[0]"
   ],
   "id": "6aa41bc9129cb344",
   "outputs": [],
   "execution_count": 326
  },
  {
   "metadata": {
    "ExecuteTime": {
     "end_time": "2025-03-19T14:01:55.228055Z",
     "start_time": "2025-03-19T14:01:55.224484Z"
    }
   },
   "cell_type": "code",
   "source": [
    "print(\"No regularization coeficiens\")\n",
    "print(no_reg_coef,no_reg_B0)\n",
    "print(\"Regularized coeficiens\")\n",
    "print(reg_coef,reg_B0)"
   ],
   "id": "3931c2eb4b1e2e11",
   "outputs": [
    {
     "name": "stdout",
     "output_type": "stream",
     "text": [
      "No regularization coeficiens\n",
      "[[-111.91608035  117.54515973]] 135.04765907630477\n",
      "Regularized coeficiens\n",
      "[[-2.16922885  1.18171354]] 7.469377343160525\n"
     ]
    }
   ],
   "execution_count": 328
  },
  {
   "metadata": {},
   "cell_type": "markdown",
   "source": "",
   "id": "29f93de195b74015"
  },
  {
   "metadata": {
    "ExecuteTime": {
     "end_time": "2025-03-19T14:02:00.813990Z",
     "start_time": "2025-03-19T14:02:00.809440Z"
    }
   },
   "cell_type": "code",
   "source": [
    "def calc_log_likelihood(X,Y,betha,betha0):\n",
    "    return np.sum(Y*(np.dot(betha,X.T)+betha0)-np.log(1+np.exp(np.dot(betha,X.T)+betha0)))"
   ],
   "id": "7d320507c2631d41",
   "outputs": [],
   "execution_count": 329
  },
  {
   "metadata": {
    "ExecuteTime": {
     "end_time": "2025-03-19T14:02:04.175344Z",
     "start_time": "2025-03-19T14:02:04.170729Z"
    }
   },
   "cell_type": "code",
   "source": [
    "ll1=calc_log_likelihood(X,Y,reg_coef,reg_B0)\n",
    "ll2=calc_log_likelihood(X,Y,no_reg_coef,no_reg_B0)\n",
    "print(\"loglikelihood, no reguralization:\",ll2)\n",
    "print(\"loglikelihood, reguralization:\",ll1)"
   ],
   "id": "a2095c8a11a495b2",
   "outputs": [
    {
     "name": "stdout",
     "output_type": "stream",
     "text": [
      "loglikelihood, no reguralization: -0.0014827399403015255\n",
      "loglikelihood, reguralization: -8.425076253244171\n"
     ]
    }
   ],
   "execution_count": 330
  },
  {
   "metadata": {
    "ExecuteTime": {
     "end_time": "2025-03-19T13:14:03.237411Z",
     "start_time": "2025-03-19T13:14:03.229819Z"
    }
   },
   "cell_type": "code",
   "source": [
    "#Helper function\n",
    "def map_Y(Y):\n",
    "    Yi=np.ndarray((Y.shape[0],2))\n",
    "    for i in range(Y.shape[0]):\n",
    "        if Y[i]==1:\n",
    "            Yi[i,0]=0\n",
    "            Yi[i,1]=1\n",
    "        else:\n",
    "            Yi[i,0]=1\n",
    "            Yi[i,1]=0\n",
    "    return Yi"
   ],
   "id": "80dbb627d74d29a6",
   "outputs": [],
   "execution_count": 285
  },
  {
   "metadata": {},
   "cell_type": "markdown",
   "source": "## Task 2",
   "id": "b60a29ab1851a03f"
  },
  {
   "metadata": {
    "ExecuteTime": {
     "end_time": "2025-03-19T13:11:12.153907Z",
     "start_time": "2025-03-19T13:11:12.149763Z"
    }
   },
   "cell_type": "code",
   "source": [
    "def generate_data(n,Betas,Beta0,k=5):\n",
    "    X=np.random.normal(0,1,(n,k))\n",
    "    Y=np.random.binomial(1,1/(1+np.exp(-np.dot(Betas.T,X.T)-Beta0))).reshape(-1,)\n",
    "    return X,Y"
   ],
   "id": "6034f6651b31e049",
   "outputs": [],
   "execution_count": 272
  },
  {
   "metadata": {
    "ExecuteTime": {
     "end_time": "2025-03-19T14:07:53.359767Z",
     "start_time": "2025-03-19T14:07:53.355259Z"
    }
   },
   "cell_type": "code",
   "source": [
    "Beta0=0.5\n",
    "Betas=np.array([1]*5).reshape(5,1)"
   ],
   "id": "ad6bf37c19256c01",
   "outputs": [],
   "execution_count": 342
  },
  {
   "metadata": {
    "ExecuteTime": {
     "end_time": "2025-03-19T14:22:22.800420Z",
     "start_time": "2025-03-19T14:22:22.796374Z"
    }
   },
   "cell_type": "code",
   "source": [
    "def calc_MSE(Betas,Beta0,N=50,k=5,L=100):\n",
    "    errors=np.array([])\n",
    "    for i in range(L):\n",
    "        X,Y=generate_data(N,Betas,Beta0,k=k)\n",
    "        model=sklearn.linear_model.LogisticRegression().fit(X,Y)\n",
    "        true_params=np.array(list(Betas.reshape(-1,))+[Beta0])\n",
    "        estim_params=np.array([*model.coef_.reshape(-1,),*model.intercept_])\n",
    "        errors=np.append(errors,np.sum((true_params-estim_params)**2))\n",
    "    return errors.mean()"
   ],
   "id": "5bdc65be26753c32",
   "outputs": [],
   "execution_count": 381
  },
  {
   "metadata": {
    "ExecuteTime": {
     "end_time": "2025-03-19T14:24:24.660200Z",
     "start_time": "2025-03-19T14:24:24.655598Z"
    }
   },
   "cell_type": "code",
   "source": [
    "def task_two_k_features(k=5):\n",
    "    Betas=np.array([1]*k).reshape(k,1)\n",
    "    Beta0=0.5\n",
    "    N1=np.array([int(x) for x in np.linspace(50,100,6)])\n",
    "    N2=np.array([int(x) for x in np.linspace(200,1000,9)])\n",
    "    N=np.concatenate((N1,N2))\n",
    "    MSE=np.array([])\n",
    "    for n in N:\n",
    "        MSE=np.append(MSE,calc_MSE(Betas,Beta0,n,k=k))\n",
    "    plt.plot(N,MSE)\n",
    "    plt.title(f\"MSE for k={k}\")\n",
    "    plt.xlabel(\"size N\")\n",
    "    plt.ylabel(\"MSE\")\n",
    "    plt.show()"
   ],
   "id": "7726d49b94f8a00b",
   "outputs": [],
   "execution_count": 392
  },
  {
   "metadata": {
    "ExecuteTime": {
     "end_time": "2025-03-19T14:24:30.728180Z",
     "start_time": "2025-03-19T14:24:25.025504Z"
    }
   },
   "cell_type": "code",
   "source": "task_two_k_features(5)",
   "id": "7725504207f55d91",
   "outputs": [
    {
     "data": {
      "text/plain": [
       "<Figure size 640x480 with 1 Axes>"
      ],
      "image/png": "[encoded data removed]"
     },
     "metadata": {},
     "output_type": "display_data"
    }
   ],
   "execution_count": 393
  },
  {
   "metadata": {
    "ExecuteTime": {
     "end_time": "2025-03-19T14:24:36.931306Z",
     "start_time": "2025-03-19T14:24:30.735432Z"
    }
   },
   "cell_type": "code",
   "source": "task_two_k_features(3)",
   "id": "aca6b435a0b4854b",
   "outputs": [
    {
     "data": {
      "text/plain": [
       "<Figure size 640x480 with 1 Axes>"
      ],
      "image/png": "[encoded data removed]"
     },
     "metadata": {},
     "output_type": "display_data"
    }
   ],
   "execution_count": 394
  }
 ],
 "metadata": {
  "kernelspec": {
   "display_name": "Python 3",
   "language": "python",
   "name": "python3"
  },
  "language_info": {
   "codemirror_mode": {
    "name": "ipython",
    "version": 2
   },
   "file_extension": ".py",
   "mimetype": "text/x-python",
   "name": "python",
   "nbconvert_exporter": "python",
   "pygments_lexer": "ipython2",
   "version": "2.7.6"
  }
 },
 "nbformat": 4,
 "nbformat_minor": 5
}
