{
 "cells": [
  {
   "cell_type": "code",
   "id": "initial_id",
   "metadata": {
    "collapsed": true,
    "ExecuteTime": {
     "end_time": "2025-05-12T10:33:33.350370Z",
     "start_time": "2025-05-12T10:33:33.347751Z"
    }
   },
   "source": [
    "import numpy as np\n",
    "import pandas as pd\n",
    "import scipy.stats as stats\n",
    "from boruta import BorutaPy\n",
    "from sklearn.ensemble import RandomForestClassifier"
   ],
   "outputs": [],
   "execution_count": 107
  },
  {
   "metadata": {
    "ExecuteTime": {
     "end_time": "2025-05-12T10:27:54.031618Z",
     "start_time": "2025-05-12T10:27:54.028388Z"
    }
   },
   "cell_type": "code",
   "source": [
    "def generate_data(n,p,k,scheme=\"one\"):\n",
    "    def scheme_one():\n",
    "        y=np.zeros(n)\n",
    "        X=np.zeros((n,p))\n",
    "        for i in range(n):\n",
    "            x=np.random.normal(0,1,p)\n",
    "            X[i,:]=x\n",
    "            th=stats.chi2.ppf(0.5,df=k)\n",
    "            y[i]=1 if np.sum(x[0:k]**2)>th else 0\n",
    "        return X,y\n",
    "    def scheme_two():\n",
    "        y=np.array(n)\n",
    "        X=np.zeros((n,p))\n",
    "        for i in range(n):\n",
    "            x=np.random.normal(0,1,p)\n",
    "            X[i,:]=x\n",
    "            \n",
    "            y[i]=1 if np.sum(np.abs(x[0:k]))>k else 0\n",
    "        return X,y\n",
    "    if scheme==\"one\":\n",
    "        return scheme_one()\n",
    "    else:\n",
    "        return scheme_two()\n",
    "        "
   ],
   "id": "ab5dd98e4f5d019d",
   "outputs": [],
   "execution_count": 93
  },
  {
   "metadata": {
    "ExecuteTime": {
     "end_time": "2025-05-12T10:27:55.879731Z",
     "start_time": "2025-05-12T10:27:55.870042Z"
    }
   },
   "cell_type": "code",
   "source": "X,y=generate_data(100,30,7)",
   "id": "1b2a37726c00bcb7",
   "outputs": [],
   "execution_count": 94
  }
 ],
 "metadata": {
  "kernelspec": {
   "display_name": "Python 3",
   "language": "python",
   "name": "python3"
  },
  "language_info": {
   "codemirror_mode": {
    "name": "ipython",
    "version": 2
   },
   "file_extension": ".py",
   "mimetype": "text/x-python",
   "name": "python",
   "nbconvert_exporter": "python",
   "pygments_lexer": "ipython2",
   "version": "2.7.6"
  }
 },
 "nbformat": 4,
 "nbformat_minor": 5
}
