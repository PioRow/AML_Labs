{
 "cells": [
  {
   "cell_type": "code",
   "id": "initial_id",
   "metadata": {
    "collapsed": true,
    "ExecuteTime": {
     "end_time": "2025-05-23T22:05:05.458549Z",
     "start_time": "2025-05-23T22:05:04.765750Z"
    }
   },
   "source": [
    "from itertools import count\n",
    "\n",
    "import numpy as np\n",
    "import pandas as pd\n",
    "import scipy.stats as stats\n",
    "from boruta import BorutaPy\n",
    "from numpy import ndarray\n",
    "from sklearn.ensemble import RandomForestClassifier\n",
    "from sklearn.inspection import permutation_importance\n",
    "from sklearn.model_selection import train_test_split\n",
    "from sklearn.inspection import permutation_importance\n",
    "import matplotlib.pyplot as plt"
   ],
   "outputs": [],
   "execution_count": 36
  },
  {
   "metadata": {
    "ExecuteTime": {
     "end_time": "2025-05-23T21:58:57.485834Z",
     "start_time": "2025-05-23T21:58:57.482693Z"
    }
   },
   "cell_type": "code",
   "source": [
    "def generate_data(n,p,k,scheme=\"one\"):\n",
    "    def scheme_one():\n",
    "        y=np.zeros(n)\n",
    "        X=np.zeros((n,p))\n",
    "        for i in range(n):\n",
    "            x=np.random.normal(0,1,p)\n",
    "            X[i,:]=x\n",
    "            th=stats.chi2.ppf(0.5,df=k)\n",
    "            y[i]=1 if np.sum(x[0:k]**2)>th else 0\n",
    "        return X,y\n",
    "    def scheme_two():\n",
    "        y=np.array(n)\n",
    "        X=np.zeros((n,p))\n",
    "        for i in range(n):\n",
    "            x=np.random.normal(0,1,p)\n",
    "            X[i,:]=x\n",
    "            \n",
    "            y[i]=1 if np.sum(np.abs(x[0:k]))>k else 0\n",
    "        return X,y\n",
    "    if scheme==\"one\":\n",
    "        return scheme_one()\n",
    "    else:\n",
    "        return scheme_two()\n",
    "        "
   ],
   "id": "ab5dd98e4f5d019d",
   "outputs": [],
   "execution_count": 14
  },
  {
   "metadata": {
    "ExecuteTime": {
     "end_time": "2025-05-23T21:58:57.920741Z",
     "start_time": "2025-05-23T21:58:57.916493Z"
    }
   },
   "cell_type": "code",
   "source": [
    "class VarImportanceRanker:\n",
    "    def __init__(self,X:np.ndarray,y:np.ndarray,rf_args:dict={}):\n",
    "        self.X:np.ndarray=X\n",
    "        self.y:np.ndarray=y\n",
    "        self.rf:RandomForestClassifier=RandomForestClassifier(**rf_args)\n",
    "        self.boruta:BorutaPy=BorutaPy(RandomForestClassifier(**rf_args))\n",
    "    def _impurity_rf(self):\n",
    "        self.rf.fit(self.X,self.y)\n",
    "        return self.rf.feature_importances_\n",
    "    def _boruta(self):\n",
    "        self.boruta.fit(self.X,self.y)\n",
    "        return self.boruta.ranking_\n",
    "    def _feat_perm(self):\n",
    "        self.rf.fit(self.X,self.y)\n",
    "        res=permutation_importance(self.rf,self.X,self.y)\n",
    "        return res.importances_mean\n",
    "    def rank(self,name=\"boruta\"):\n",
    "        if name==\"impurity\":\n",
    "            return self._impurity_rf()\n",
    "        if name==\"feat_perm\":\n",
    "            return self._feat_perm()\n",
    "        if name==\"boruta\":\n",
    "            return self._boruta()\n",
    "        raise NotImplemented\n",
    "    \n",
    "    \n",
    "        "
   ],
   "id": "b110c6ddaf253396",
   "outputs": [],
   "execution_count": 15
  },
  {
   "metadata": {
    "ExecuteTime": {
     "end_time": "2025-05-23T23:00:10.859371Z",
     "start_time": "2025-05-23T23:00:10.855725Z"
    }
   },
   "cell_type": "code",
   "source": [
    "def check_corectness(N,P_K,length,methods,L=25):\n",
    "    counters={}\n",
    "    for m in methods:\n",
    "        counters[m]=0\n",
    "    for i in range(L):\n",
    "        i=np.random.randint(length)\n",
    "        X,y=generate_data(N[i],P_K[i][0],P_K[i][1],scheme=\"one\")\n",
    "        k=P_K[i][1]\n",
    "        correct={np.int64(j) for j in range(k)}\n",
    "        ranker=VarImportanceRanker(X,y)\n",
    "        for m in methods:\n",
    "            ranked=np.argsort(ranker.rank(m))\n",
    "            if m!=\"boruta\":\n",
    "                ranked=ranked[::-1]\n",
    "            ranked=set(ranked[:k])\n",
    "            if ranked==correct:\n",
    "                counters[m]+=1\n",
    "        \n",
    "    for m in methods:\n",
    "        counters[m]=counters[m]/L\n",
    "        plt.bar(m,counters[m])\n",
    "    plt.show()"
   ],
   "id": "84d2cf974bc11677",
   "outputs": [],
   "execution_count": 61
  },
  {
   "metadata": {
    "ExecuteTime": {
     "end_time": "2025-05-23T23:22:57.231942Z",
     "start_time": "2025-05-23T23:00:20.168625Z"
    }
   },
   "cell_type": "code",
   "source": [
    "N=[200,300,400,500]\n",
    "P_K=[(10,2),(20,4),(25,5),(50,10)]\n",
    "methods=[\"impurity\",\"feat_perm\",\"boruta\"]\n",
    "check_corectness(N,P_K,4,methods,L=15)"
   ],
   "id": "df0c03a9828052b2",
   "outputs": [
    {
     "data": {
      "text/plain": [
       "<Figure size 640x480 with 1 Axes>"
      ],
      "image/png": "[encoded data removed]"
     },
     "metadata": {},
     "output_type": "display_data"
    }
   ],
   "execution_count": 62
  }
 ],
 "metadata": {
  "kernelspec": {
   "display_name": "Python 3",
   "language": "python",
   "name": "python3"
  },
  "language_info": {
   "codemirror_mode": {
    "name": "ipython",
    "version": 2
   },
   "file_extension": ".py",
   "mimetype": "text/x-python",
   "name": "python",
   "nbconvert_exporter": "python",
   "pygments_lexer": "ipython2",
   "version": "2.7.6"
  }
 },
 "nbformat": 4,
 "nbformat_minor": 5
}
