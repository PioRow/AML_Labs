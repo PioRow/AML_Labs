{
 "cells": [
  {
   "cell_type": "code",
   "id": "initial_id",
   "metadata": {
    "collapsed": true,
    "ExecuteTime": {
     "end_time": "2025-05-13T17:00:17.929512Z",
     "start_time": "2025-05-13T17:00:16.347734Z"
    }
   },
   "source": [
    "import numpy as np\n",
    "import sklearn.tree as tree\n",
    "import sklearn.ensemble as ensemble"
   ],
   "outputs": [],
   "execution_count": 8
  },
  {
   "metadata": {
    "ExecuteTime": {
     "end_time": "2025-05-13T17:12:00.534833Z",
     "start_time": "2025-05-13T17:12:00.531798Z"
    }
   },
   "cell_type": "code",
   "source": [
    "class generator:\n",
    "    def __init__(self,n,p=50):\n",
    "        self.n=n\n",
    "        self.p=p\n",
    "        self.X=np.zeros((n,p))\n",
    "        self.y=np.zeros(n)\n",
    "        self.eps=np.random.normal(0,0.1,n)\n",
    "    def generate(self,k=1):\n",
    "        if k in set([1,2,4]):\n",
    "             self.feature_one(k)    \n",
    "        else:\n",
    "             self.feature_two(k)\n",
    "        return self.X,self.y\n",
    "    def feature_two(self,k):\n",
    "        self.X=np.random.normal(0,1,(self.n,self.p))\n",
    "        X=self.X[:,0]\n",
    "        match k:\n",
    "            case 3:\n",
    "                self.y=np.where(X>0,X,0)+np.where(X-1>0,X-1,0)+self.eps\n",
    "            case 5:\n",
    "                self.y=np.where(X<0,1,0)\n",
    "    def feature_one(self,k):\n",
    "        self.X[:,0]=np.random.uniform(0,4,self.n)\n",
    "        self.X[:,1:self.p]=np.random.uniform(0,1,(self.n,self.p-1))\n",
    "        X=self.X[:,0]\n",
    "        match k:\n",
    "            case 1:\n",
    "                self.y=np.sqrt(X)+self.eps\n",
    "            case 2:\n",
    "                self.y=np.square(X)+self.eps\n",
    "            case 4:\n",
    "                self.y=np.sin(X)+self.eps\n",
    "        "
   ],
   "id": "1780619b66ec23d0",
   "outputs": [],
   "execution_count": 21
  },
  {
   "metadata": {
    "ExecuteTime": {
     "end_time": "2025-05-13T17:12:24.850769Z",
     "start_time": "2025-05-13T17:12:24.848127Z"
    }
   },
   "cell_type": "code",
   "source": [
    "X,y=generator(3).generate(1)\n",
    "y"
   ],
   "id": "a8fc0554ddda092a",
   "outputs": [
    {
     "data": {
      "text/plain": [
       "array([1.68593613, 1.41974442, 1.33937718])"
      ]
     },
     "execution_count": 24,
     "metadata": {},
     "output_type": "execute_result"
    }
   ],
   "execution_count": 24
  },
  {
   "metadata": {
    "ExecuteTime": {
     "end_time": "2025-05-13T17:12:55.225680Z",
     "start_time": "2025-05-13T17:12:55.222485Z"
    }
   },
   "cell_type": "code",
   "source": "",
   "id": "3a95c2c961f4fa90",
   "outputs": [
    {
     "data": {
      "text/plain": [
       "np.float64(1.6859361335885985)"
      ]
     },
     "execution_count": 29,
     "metadata": {},
     "output_type": "execute_result"
    }
   ],
   "execution_count": 29
  },
  {
   "metadata": {
    "ExecuteTime": {
     "end_time": "2025-05-13T17:08:30.681400Z",
     "start_time": "2025-05-13T17:08:30.678619Z"
    }
   },
   "cell_type": "code",
   "source": [
    "x=np.array([1,-1,0])\n",
    "np.where(x>0,x,0)"
   ],
   "id": "7c4769ba54c1eb30",
   "outputs": [
    {
     "data": {
      "text/plain": [
       "array([1, 0, 0])"
      ]
     },
     "execution_count": 17,
     "metadata": {},
     "output_type": "execute_result"
    }
   ],
   "execution_count": 17
  }
 ],
 "metadata": {
  "kernelspec": {
   "display_name": "Python 3",
   "language": "python",
   "name": "python3"
  },
  "language_info": {
   "codemirror_mode": {
    "name": "ipython",
    "version": 2
   },
   "file_extension": ".py",
   "mimetype": "text/x-python",
   "name": "python",
   "nbconvert_exporter": "python",
   "pygments_lexer": "ipython2",
   "version": "2.7.6"
  }
 },
 "nbformat": 4,
 "nbformat_minor": 5
}
