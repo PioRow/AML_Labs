{
 "cells": [
  {
   "cell_type": "code",
   "id": "initial_id",
   "metadata": {
    "collapsed": true,
    "ExecuteTime": {
     "end_time": "2025-03-26T16:14:22.598986Z",
     "start_time": "2025-03-26T16:14:21.664985Z"
    }
   },
   "source": [
    "import pandas as pd\n",
    "import numpy as np\n",
    "import abc\n",
    "import matplotlib.pyplot as plt\n",
    "import seaborn as sns\n",
    "import sklearn\n",
    "from sklearn.linear_model import LogisticRegressionCV"
   ],
   "outputs": [],
   "execution_count": 71
  },
  {
   "metadata": {
    "ExecuteTime": {
     "end_time": "2025-03-26T16:36:51.053563Z",
     "start_time": "2025-03-26T16:36:51.048454Z"
    }
   },
   "cell_type": "code",
   "source": [
    "def generate_artificial_data(n,ir_n):\n",
    "    X=np.zeros((n,ir_n+10))\n",
    "    Y=np.zeros((n,1))\n",
    "    Betha=np.array([1]*10+[0]*ir_n).reshape(-1,1)\n",
    "    for i in range(n):\n",
    "        X[i,:]=np.random.multivariate_normal(np.zeros(ir_n+10),np.eye(ir_n+10))\n",
    "        Y[i]=np.random.binomial(1,1/(1+np.exp(-X[i,:].dot(Betha))))\n",
    "    return X,Y"
   ],
   "id": "20d8ca45c2829908",
   "outputs": [],
   "execution_count": 138
  },
  {
   "metadata": {
    "ExecuteTime": {
     "end_time": "2025-03-26T16:36:51.370458Z",
     "start_time": "2025-03-26T16:36:51.366063Z"
    }
   },
   "cell_type": "code",
   "source": [
    "def compute_PSR(real,estimated):\n",
    "    return np.sum(real*estimated>0)/np.sum(real>0)\n",
    "def compute_FDR(real,estimated):\n",
    "    return np.sum((estimated!=0)*(real==0))/np.sum(estimated!=0)"
   ],
   "id": "647bdf51a3d088c",
   "outputs": [],
   "execution_count": 139
  },
  {
   "metadata": {
    "ExecuteTime": {
     "end_time": "2025-03-26T16:39:18.143920Z",
     "start_time": "2025-03-26T16:39:18.138259Z"
    }
   },
   "cell_type": "code",
   "source": [
    "def mean_metrics(L=100):\n",
    "    PSR=[]\n",
    "    FDR=[]\n",
    "    for l in range(L):\n",
    "        X,Y=generate_artificial_data(300,10)\n",
    "        cs=np.linspace(0.1,10,50)\n",
    "        Betha=np.array([1]*10+[0]*10).reshape(-1,1)\n",
    "        model=LogisticRegressionCV(Cs=cs,penalty=\"l1\",solver=\"liblinear\").fit(X,Y.reshape(-1,))\n",
    "        PSR.append(compute_PSR(Betha,model.coef_.reshape(-1,1)))\n",
    "        FDR.append(compute_FDR(Betha,model.coef_.reshape(-1,1)))\n",
    "    print(\"PSR = \",np.mean(PSR),\"FDR = \",np.mean(FDR))\n",
    "    return np.mean(PSR),np.mean(FDR)"
   ],
   "id": "7f55b3e9a70e755b",
   "outputs": [],
   "execution_count": 140
  },
  {
   "metadata": {
    "ExecuteTime": {
     "end_time": "2025-03-26T16:39:50.347422Z",
     "start_time": "2025-03-26T16:39:23.949811Z"
    }
   },
   "cell_type": "code",
   "source": "mean_metrics()",
   "id": "52b076c93fee3cb3",
   "outputs": [
    {
     "name": "stdout",
     "output_type": "stream",
     "text": [
      "PSR =  1.0 FDR =  0.3651082818110682\n"
     ]
    },
    {
     "data": {
      "text/plain": [
       "(np.float64(1.0), np.float64(0.3651082818110682))"
      ]
     },
     "execution_count": 141,
     "metadata": {},
     "output_type": "execute_result"
    }
   ],
   "execution_count": 141
  },
  {
   "metadata": {
    "ExecuteTime": {
     "end_time": "2025-03-26T16:35:09.711567Z",
     "start_time": "2025-03-26T16:35:09.706891Z"
    }
   },
   "cell_type": "code",
   "source": "",
   "id": "a4e7e36b360007d2",
   "outputs": [
    {
     "data": {
      "text/plain": [
       "np.float64(0.5)"
      ]
     },
     "execution_count": 136,
     "metadata": {},
     "output_type": "execute_result"
    }
   ],
   "execution_count": 136
  }
 ],
 "metadata": {
  "kernelspec": {
   "display_name": "Python 3",
   "language": "python",
   "name": "python3"
  },
  "language_info": {
   "codemirror_mode": {
    "name": "ipython",
    "version": 2
   },
   "file_extension": ".py",
   "mimetype": "text/x-python",
   "name": "python",
   "nbconvert_exporter": "python",
   "pygments_lexer": "ipython2",
   "version": "2.7.6"
  }
 },
 "nbformat": 4,
 "nbformat_minor": 5
}
